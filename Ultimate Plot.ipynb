{
 "cells": [
  {
   "cell_type": "code",
   "execution_count": 1,
   "metadata": {},
   "outputs": [
    {
     "data": {
      "text/html": [
       "        <script type=\"text/javascript\">\n",
       "        window.PlotlyConfig = {MathJaxConfig: 'local'};\n",
       "        if (window.MathJax) {MathJax.Hub.Config({SVG: {font: \"STIX-Web\"}});}\n",
       "        if (typeof require !== 'undefined') {\n",
       "        require.undef(\"plotly\");\n",
       "        requirejs.config({\n",
       "            paths: {\n",
       "                'plotly': ['https://cdn.plot.ly/plotly-2.8.3.min']\n",
       "            }\n",
       "        });\n",
       "        require(['plotly'], function(Plotly) {\n",
       "            window._Plotly = Plotly;\n",
       "        });\n",
       "        }\n",
       "        </script>\n",
       "        "
      ]
     },
     "metadata": {},
     "output_type": "display_data"
    },
    {
     "data": {
      "text/html": [
       "        <script type=\"text/javascript\">\n",
       "        window.PlotlyConfig = {MathJaxConfig: 'local'};\n",
       "        if (window.MathJax) {MathJax.Hub.Config({SVG: {font: \"STIX-Web\"}});}\n",
       "        if (typeof require !== 'undefined') {\n",
       "        require.undef(\"plotly\");\n",
       "        requirejs.config({\n",
       "            paths: {\n",
       "                'plotly': ['https://cdn.plot.ly/plotly-2.8.3.min']\n",
       "            }\n",
       "        });\n",
       "        require(['plotly'], function(Plotly) {\n",
       "            window._Plotly = Plotly;\n",
       "        });\n",
       "        }\n",
       "        </script>\n",
       "        "
      ]
     },
     "metadata": {},
     "output_type": "display_data"
    }
   ],
   "source": [
    "# Provides ways to work with large multidimensional arrays\n",
    "import numpy as np \n",
    "# Allows for further data manipulation and analysis\n",
    "import pandas as pd \n",
    "import matplotlib.pyplot as plt # Plotting\n",
    "import matplotlib.dates as mdates # Styling dates\n",
    "%matplotlib inline\n",
    "\n",
    "# pip install numpy\n",
    "# conda install -c anaconda pandas\n",
    "# conda install -c conda-forge matplotlib\n",
    "\n",
    "import datetime as dt # For defining dates\n",
    "\n",
    "import time\n",
    "\n",
    "# In Powershell Prompt : conda install -c conda-forge multitasking\n",
    "# pip install -i https://pypi.anaconda.org/ranaroussi/simple yfinance\n",
    "\n",
    "import yfinance as yf\n",
    "\n",
    "# To show all your output File -> Preferences -> Settings Search for Notebook\n",
    "# Notebook Output Text Line Limit and set to 100\n",
    "\n",
    "# Used for file handling like deleting files\n",
    "import os\n",
    "\n",
    "# conda install -c conda-forge cufflinks-py\n",
    "# conda install -c plotly plotly\n",
    "import cufflinks as cf\n",
    "import plotly.express as px\n",
    "import plotly.graph_objects as go\n",
    "\n",
    "# Make Plotly work in your Jupyter Notebook\n",
    "from plotly.offline import download_plotlyjs, init_notebook_mode, plot, iplot\n",
    "init_notebook_mode(connected=True)\n",
    "# Use Plotly locally\n",
    "cf.go_offline()\n",
    "\n",
    "from plotly.subplots import make_subplots\n",
    "\n",
    "# New Imports\n",
    "# Used to get data from a directory\n",
    "import os\n",
    "from os import listdir\n",
    "from os.path import isfile, join\n",
    "\n",
    "import warnings\n",
    "warnings.simplefilter(\"ignore\")"
   ]
  },
  {
   "cell_type": "markdown",
   "metadata": {},
   "source": [
    "## Constants"
   ]
  },
  {
   "cell_type": "code",
   "execution_count": 2,
   "metadata": {},
   "outputs": [],
   "source": [
    "PATH = \"./stocks/\"\n",
    "\n",
    "# Start end date defaults\n",
    "S_DATE = \"2017-02-01\"\n",
    "E_DATE = \"2022-12-06\"\n",
    "S_DATE_DT = pd.to_datetime(S_DATE)\n",
    "E_DATE_DT = pd.to_datetime(E_DATE)"
   ]
  },
  {
   "cell_type": "markdown",
   "metadata": {},
   "source": [
    "## Get Dataframe from CSV"
   ]
  },
  {
   "cell_type": "code",
   "execution_count": 3,
   "metadata": {},
   "outputs": [],
   "source": [
    "# Reads a dataframe from the CSV file, changes index to date and returns it\n",
    "def get_stock_df_from_csv(ticker):\n",
    "    \n",
    "    # Try to get the file and if it doesn't exist issue a warning\n",
    "    try:\n",
    "        df = pd.read_csv(PATH + ticker + '.csv', index_col=0)\n",
    "    except FileNotFoundError:\n",
    "        print(\"File Doesn't Exist\")\n",
    "    else:\n",
    "        return df"
   ]
  },
  {
   "cell_type": "markdown",
   "metadata": {},
   "source": [
    "## Plot Bollinger Bands"
   ]
  },
  {
   "cell_type": "code",
   "execution_count": 4,
   "metadata": {},
   "outputs": [],
   "source": [
    "def plot_with_boll_bands(df, ticker):\n",
    "    \n",
    "    fig = go.Figure()\n",
    "\n",
    "    candle = go.Candlestick(x=df.index, open=df['Open'],\n",
    "    high=df['High'], low=df['Low'],\n",
    "    close=df['Close'], name=\"Candlestick\")\n",
    "\n",
    "    upper_line = go.Scatter(x=df.index, y=df['upper_band'], \n",
    "    line=dict(color='rgba(250, 0, 0, 0.75)', \n",
    "    width=1), name=\"Upper Band\")\n",
    "\n",
    "    mid_line = go.Scatter(x=df.index, y=df['middle_band'], \n",
    "    line=dict(color='rgba(0, 0, 250, 0.75)', \n",
    "    width=0.7), name=\"Middle Band\")\n",
    "\n",
    "    lower_line = go.Scatter(x=df.index, y=df['lower_band'], \n",
    "    line=dict(color='rgba(0, 250, 0, 0.75)', \n",
    "    width=1), name=\"Lower Band\")\n",
    "\n",
    "    fig.add_trace(candle)\n",
    "    fig.add_trace(upper_line)\n",
    "    fig.add_trace(mid_line)\n",
    "    fig.add_trace(lower_line)\n",
    "\n",
    "    fig.update_xaxes(title=\"Date\", rangeslider_visible=True)\n",
    "    fig.update_yaxes(title=\"Price\")\n",
    "\n",
    "    # USED FOR NON-DAILY DATA : Get rid of empty dates and market closed\n",
    "    # fig.update_layout(title=ticker + \" Bollinger Bands\",\n",
    "    # height=1200, width=1800, \n",
    "    #               showlegend=True, \n",
    "    #               xaxis_rangebreaks=[\n",
    "    #         dict(bounds=[\"sat\", \"mon\"]),\n",
    "    #         dict(bounds=[16, 9.5], pattern=\"hour\"), \n",
    "    #         dict(values=[\"2021-12-25\", \"2022-01-01\"])\n",
    "    #     ])\n",
    "        \n",
    "    fig.update_layout(title=ticker + \" Bollinger Bands\",\n",
    "    height=1200, width=1800, showlegend=True)\n",
    "    fig.show()"
   ]
  },
  {
   "cell_type": "markdown",
   "metadata": {},
   "source": [
    "## Plot Ichimoku"
   ]
  },
  {
   "cell_type": "code",
   "execution_count": 5,
   "metadata": {},
   "outputs": [],
   "source": [
    "# Used to generate the red and green fill for the Ichimoku cloud\n",
    "def get_fill_color(label):\n",
    "    if label >= 1:\n",
    "        return 'rgba(0,250,0,0.4)'\n",
    "    else:\n",
    "        return 'rgba(250,0,0,0.4)'"
   ]
  },
  {
   "cell_type": "code",
   "execution_count": 6,
   "metadata": {},
   "outputs": [],
   "source": [
    "def get_Ichimoku(df):\n",
    "\n",
    "    candle = go.Candlestick(x=df.index, open=df['Open'],\n",
    "    high=df['High'], low=df[\"Low\"], close=df['Close'], name=\"Candlestick\")\n",
    "\n",
    "    df1 = df.copy()\n",
    "    fig = go.Figure()\n",
    "    df['label'] = np.where(df['SpanA'] > df['SpanB'], 1, 0)\n",
    "    df['group'] = df['label'].ne(df['label'].shift()).cumsum()\n",
    "\n",
    "    df = df.groupby('group')\n",
    "\n",
    "    dfs = []\n",
    "    for name, data in df:\n",
    "        dfs.append(data)\n",
    "\n",
    "    for df in dfs:\n",
    "        fig.add_traces(go.Scatter(x=df.index, y=df.SpanA,\n",
    "        line=dict(color='rgba(0,0,0,0)')))\n",
    "\n",
    "        fig.add_traces(go.Scatter(x=df.index, y=df.SpanB,\n",
    "        line=dict(color='rgba(0,0,0,0)'),\n",
    "        fill='tonexty',\n",
    "        fillcolor=get_fill_color(df['label'].iloc[0])))\n",
    "\n",
    "    baseline = go.Scatter(x=df1.index, y=df1['Baseline'], \n",
    "    line=dict(color='pink', width=2), name=\"Baseline\")\n",
    "\n",
    "    conversion = go.Scatter(x=df1.index, y=df1['Conversion'], \n",
    "    line=dict(color='black', width=1), name=\"Conversion\")\n",
    "\n",
    "    lagging = go.Scatter(x=df1.index, y=df1['Lagging'], \n",
    "    line=dict(color='purple', width=2), name=\"Lagging\")\n",
    "\n",
    "    span_a = go.Scatter(x=df1.index, y=df1['SpanA'], \n",
    "    line=dict(color='green', width=2, dash='dot'), name=\"Span A\")\n",
    "\n",
    "    span_b = go.Scatter(x=df1.index, y=df1['SpanB'], \n",
    "    line=dict(color='red', width=1, dash='dot'), name=\"Span B\")\n",
    "\n",
    "    fig.add_trace(candle)\n",
    "    fig.add_trace(baseline)\n",
    "    fig.add_trace(conversion)\n",
    "    fig.add_trace(lagging)\n",
    "    fig.add_trace(span_a)\n",
    "    fig.add_trace(span_b)\n",
    "    \n",
    "    fig.update_layout(height=1200, width=1800, showlegend=True)\n",
    "\n",
    "    fig.show()"
   ]
  },
  {
   "cell_type": "markdown",
   "metadata": {},
   "source": [
    "## Plots"
   ]
  },
  {
   "cell_type": "code",
   "execution_count": 7,
   "metadata": {},
   "outputs": [
    {
     "name": "stdout",
     "output_type": "stream",
     "text": [
      "File Doesn't Exist\n"
     ]
    },
    {
     "ename": "AttributeError",
     "evalue": "'NoneType' object has no attribute 'index'",
     "output_type": "error",
     "traceback": [
      "\u001b[0;31m---------------------------------------------------------------------------\u001b[0m",
      "\u001b[0;31mAttributeError\u001b[0m                            Traceback (most recent call last)",
      "Input \u001b[0;32mIn [7]\u001b[0m, in \u001b[0;36m<module>\u001b[0;34m\u001b[0m\n\u001b[1;32m      1\u001b[0m test_df \u001b[38;5;241m=\u001b[39m get_stock_df_from_csv(\u001b[38;5;124m\"\u001b[39m\u001b[38;5;124mAMD\u001b[39m\u001b[38;5;124m\"\u001b[39m)\n\u001b[0;32m----> 2\u001b[0m \u001b[43mplot_with_boll_bands\u001b[49m\u001b[43m(\u001b[49m\u001b[43mtest_df\u001b[49m\u001b[43m,\u001b[49m\u001b[43m \u001b[49m\u001b[38;5;124;43m\"\u001b[39;49m\u001b[38;5;124;43mAMD\u001b[39;49m\u001b[38;5;124;43m\"\u001b[39;49m\u001b[43m)\u001b[49m\n\u001b[1;32m      3\u001b[0m get_Ichimoku(test_df)\n",
      "Input \u001b[0;32mIn [4]\u001b[0m, in \u001b[0;36mplot_with_boll_bands\u001b[0;34m(df, ticker)\u001b[0m\n\u001b[1;32m      1\u001b[0m \u001b[38;5;28;01mdef\u001b[39;00m \u001b[38;5;21mplot_with_boll_bands\u001b[39m(df, ticker):\n\u001b[1;32m      3\u001b[0m     fig \u001b[38;5;241m=\u001b[39m go\u001b[38;5;241m.\u001b[39mFigure()\n\u001b[0;32m----> 5\u001b[0m     candle \u001b[38;5;241m=\u001b[39m go\u001b[38;5;241m.\u001b[39mCandlestick(x\u001b[38;5;241m=\u001b[39m\u001b[43mdf\u001b[49m\u001b[38;5;241;43m.\u001b[39;49m\u001b[43mindex\u001b[49m, \u001b[38;5;28mopen\u001b[39m\u001b[38;5;241m=\u001b[39mdf[\u001b[38;5;124m'\u001b[39m\u001b[38;5;124mOpen\u001b[39m\u001b[38;5;124m'\u001b[39m],\n\u001b[1;32m      6\u001b[0m     high\u001b[38;5;241m=\u001b[39mdf[\u001b[38;5;124m'\u001b[39m\u001b[38;5;124mHigh\u001b[39m\u001b[38;5;124m'\u001b[39m], low\u001b[38;5;241m=\u001b[39mdf[\u001b[38;5;124m'\u001b[39m\u001b[38;5;124mLow\u001b[39m\u001b[38;5;124m'\u001b[39m],\n\u001b[1;32m      7\u001b[0m     close\u001b[38;5;241m=\u001b[39mdf[\u001b[38;5;124m'\u001b[39m\u001b[38;5;124mClose\u001b[39m\u001b[38;5;124m'\u001b[39m], name\u001b[38;5;241m=\u001b[39m\u001b[38;5;124m\"\u001b[39m\u001b[38;5;124mCandlestick\u001b[39m\u001b[38;5;124m\"\u001b[39m)\n\u001b[1;32m      9\u001b[0m     upper_line \u001b[38;5;241m=\u001b[39m go\u001b[38;5;241m.\u001b[39mScatter(x\u001b[38;5;241m=\u001b[39mdf\u001b[38;5;241m.\u001b[39mindex, y\u001b[38;5;241m=\u001b[39mdf[\u001b[38;5;124m'\u001b[39m\u001b[38;5;124mupper_band\u001b[39m\u001b[38;5;124m'\u001b[39m], \n\u001b[1;32m     10\u001b[0m     line\u001b[38;5;241m=\u001b[39m\u001b[38;5;28mdict\u001b[39m(color\u001b[38;5;241m=\u001b[39m\u001b[38;5;124m'\u001b[39m\u001b[38;5;124mrgba(250, 0, 0, 0.75)\u001b[39m\u001b[38;5;124m'\u001b[39m, \n\u001b[1;32m     11\u001b[0m     width\u001b[38;5;241m=\u001b[39m\u001b[38;5;241m1\u001b[39m), name\u001b[38;5;241m=\u001b[39m\u001b[38;5;124m\"\u001b[39m\u001b[38;5;124mUpper Band\u001b[39m\u001b[38;5;124m\"\u001b[39m)\n\u001b[1;32m     13\u001b[0m     mid_line \u001b[38;5;241m=\u001b[39m go\u001b[38;5;241m.\u001b[39mScatter(x\u001b[38;5;241m=\u001b[39mdf\u001b[38;5;241m.\u001b[39mindex, y\u001b[38;5;241m=\u001b[39mdf[\u001b[38;5;124m'\u001b[39m\u001b[38;5;124mmiddle_band\u001b[39m\u001b[38;5;124m'\u001b[39m], \n\u001b[1;32m     14\u001b[0m     line\u001b[38;5;241m=\u001b[39m\u001b[38;5;28mdict\u001b[39m(color\u001b[38;5;241m=\u001b[39m\u001b[38;5;124m'\u001b[39m\u001b[38;5;124mrgba(0, 0, 250, 0.75)\u001b[39m\u001b[38;5;124m'\u001b[39m, \n\u001b[1;32m     15\u001b[0m     width\u001b[38;5;241m=\u001b[39m\u001b[38;5;241m0.7\u001b[39m), name\u001b[38;5;241m=\u001b[39m\u001b[38;5;124m\"\u001b[39m\u001b[38;5;124mMiddle Band\u001b[39m\u001b[38;5;124m\"\u001b[39m)\n",
      "\u001b[0;31mAttributeError\u001b[0m: 'NoneType' object has no attribute 'index'"
     ]
    }
   ],
   "source": [
    "symbol = 'AA'\n",
    "test_df = get_stock_df_from_csv(symbol)\n",
    "plot_with_boll_bands(test_df, symbol)\n",
    "get_Ichimoku(test_df)"
   ]
  },
  {
   "cell_type": "markdown",
   "metadata": {},
   "source": []
  }
 ],
 "metadata": {
  "interpreter": {
   "hash": "9ae23976ba973b9bc9f8faf0b61c2f38e66a84110f763d46e521e6e22ad6477a"
  },
  "kernelspec": {
   "display_name": "Python 3.8.8 64-bit ('base': conda)",
   "language": "python",
   "name": "python3"
  },
  "language_info": {
   "codemirror_mode": {
    "name": "ipython",
    "version": 3
   },
   "file_extension": ".py",
   "mimetype": "text/x-python",
   "name": "python",
   "nbconvert_exporter": "python",
   "pygments_lexer": "ipython3",
   "version": "3.8.12"
  },
  "orig_nbformat": 4
 },
 "nbformat": 4,
 "nbformat_minor": 2
}
